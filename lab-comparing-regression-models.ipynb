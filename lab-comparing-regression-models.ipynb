{
 "cells": [
  {
   "cell_type": "markdown",
   "id": "fb336bb5",
   "metadata": {},
   "source": [
    "### Instructions\n",
    "##### Concatenate Numerical and Categorical dataframes into one dataframe called data.\n",
    "##### In this final lab, we will model our data. Import sklearn train_test_split and separate the data.\n",
    "##### Separate X_train and X_test into numerical and categorical (X_train_cat , X_train_num , X_test_cat , X_test_num)\n",
    "##### Use X_train_num to fit scalers. Transform BOTH X_train_num and X_test_num.\n",
    "##### Encode the categorical variables X_train_cat and X_test_cat (See the hint below for encoding categorical data!!!)\n",
    "##### Since the model will only accept numerical data, check and make sure that every column is numerical, if some are not, change it using encoding.\n",
    "***********************************************\n",
    "##### Hint for Categorical Variables\n",
    "##### You should deal with the categorical variables as shown below (for ordinal encoding, dummy code has been provided as well):\n",
    "\n",
    "##### Encoder Type\tColumn\n",
    "##### One hot\tstate\n",
    "##### Ordinal\tcoverage\n",
    "##### Ordinal\temploymentstatus\n",
    "##### Ordinal\tlocation code\n",
    "##### One hot\tmarital status\n",
    "##### One hot\tpolicy type\n",
    "##### One hot\tpolicy\n",
    "##### One hot\trenew offercustomer_df\n",
    "##### One hot\tsales channel\n",
    "##### One hot\tvehicle class\n",
    "##### Ordinal\tvehicle size\n",
    "\n",
    "##### Dummy code\n",
    "##### data[\"coverage\"] = data[\"coverage\"].map({\"Basic\" : 0, \"Extended\" : 1, \"Premium\" : 2})\n",
    "##### given that column \"coverage\" in the dataframe \"data\" has three categories:\n",
    "##### \"basic\", \"extended\", and \"premium\" and values are to be represented in the same order.\n",
    "******************************************************\n",
    "##### Try a simple linear regression with all the data to see whether we are getting good results.\n",
    "##### Great! Now define a function that takes a list of models and train (and tests) them so we can try a lot of them without repeating code.\n",
    "##### Use the function to check LinearRegressor and KNeighborsRegressor.\n",
    "##### You can check also the MLPRegressor for this task!\n",
    "##### Check and discuss the results."
   ]
  },
  {
   "cell_type": "code",
   "execution_count": 1,
   "id": "507c6f3f",
   "metadata": {},
   "outputs": [
    {
     "data": {
      "text/plain": [
       "Index(['Unnamed: 0', 'customer_lifetime_value', 'income',\n",
       "       'monthly_premium_auto', 'months_since_last_claim',\n",
       "       'months_since_policy_inception', 'number_of_open_complaints',\n",
       "       'number_of_policies', 'total_claim_amount'],\n",
       "      dtype='object')"
      ]
     },
     "metadata": {},
     "output_type": "display_data"
    },
    {
     "data": {
      "text/plain": [
       "Index(['Unnamed: 0', 'state', 'response', 'coverage', 'education',\n",
       "       'employmentstatus', 'gender', 'location_code', 'marital_status',\n",
       "       'policy', 'renew_offer_type', 'sales_channel', 'vehicle_class',\n",
       "       'vehicle_size'],\n",
       "      dtype='object')"
      ]
     },
     "metadata": {},
     "output_type": "display_data"
    },
    {
     "data": {
      "text/plain": [
       "Index(['Unnamed: 0', 'customer_lifetime_value', 'income',\n",
       "       'monthly_premium_auto', 'months_since_last_claim',\n",
       "       'months_since_policy_inception', 'number_of_open_complaints',\n",
       "       'number_of_policies', 'total_claim_amount'],\n",
       "      dtype='object')"
      ]
     },
     "metadata": {},
     "output_type": "display_data"
    },
    {
     "data": {
      "text/plain": [
       "(9099, 9)"
      ]
     },
     "metadata": {},
     "output_type": "display_data"
    },
    {
     "data": {
      "text/plain": [
       "(9134, 14)"
      ]
     },
     "metadata": {},
     "output_type": "display_data"
    },
    {
     "data": {
      "text/plain": [
       "(9134, 9)"
      ]
     },
     "metadata": {},
     "output_type": "display_data"
    }
   ],
   "source": [
    "import pandas as pd\n",
    "import numpy as np\n",
    "\n",
    "file1 = pd.read_csv('numerical.csv')\n",
    "file2 = pd.read_csv('categorical.csv')\n",
    "file3 = pd.read_csv('numerical2.csv')\n",
    "display(file1.columns)\n",
    "display(file2.columns)\n",
    "display(file3.columns)\n",
    "display(file1.shape)\n",
    "display(file2.shape)\n",
    "display(file3.shape)\n",
    "# -->they don't fit...can't concatinate...create numerical2..."
   ]
  },
  {
   "cell_type": "code",
   "execution_count": 2,
   "id": "589b964f",
   "metadata": {},
   "outputs": [
    {
     "data": {
      "text/html": [
       "<div>\n",
       "<style scoped>\n",
       "    .dataframe tbody tr th:only-of-type {\n",
       "        vertical-align: middle;\n",
       "    }\n",
       "\n",
       "    .dataframe tbody tr th {\n",
       "        vertical-align: top;\n",
       "    }\n",
       "\n",
       "    .dataframe thead th {\n",
       "        text-align: right;\n",
       "    }\n",
       "</style>\n",
       "<table border=\"1\" class=\"dataframe\">\n",
       "  <thead>\n",
       "    <tr style=\"text-align: right;\">\n",
       "      <th></th>\n",
       "      <th>state</th>\n",
       "      <th>response</th>\n",
       "      <th>coverage</th>\n",
       "      <th>education</th>\n",
       "      <th>employmentstatus</th>\n",
       "      <th>gender</th>\n",
       "      <th>location_code</th>\n",
       "      <th>marital_status</th>\n",
       "      <th>policy</th>\n",
       "      <th>renew_offer_type</th>\n",
       "      <th>...</th>\n",
       "      <th>vehicle_class</th>\n",
       "      <th>vehicle_size</th>\n",
       "      <th>customer_lifetime_value</th>\n",
       "      <th>income</th>\n",
       "      <th>monthly_premium_auto</th>\n",
       "      <th>months_since_last_claim</th>\n",
       "      <th>months_since_policy_inception</th>\n",
       "      <th>number_of_open_complaints</th>\n",
       "      <th>number_of_policies</th>\n",
       "      <th>total_claim_amount</th>\n",
       "    </tr>\n",
       "  </thead>\n",
       "  <tbody>\n",
       "    <tr>\n",
       "      <th>0</th>\n",
       "      <td>Washington</td>\n",
       "      <td>No</td>\n",
       "      <td>Basic</td>\n",
       "      <td>Bachelor</td>\n",
       "      <td>Employed</td>\n",
       "      <td>F</td>\n",
       "      <td>Suburban</td>\n",
       "      <td>Married</td>\n",
       "      <td>Corporate</td>\n",
       "      <td>Offer1</td>\n",
       "      <td>...</td>\n",
       "      <td>Two-Door Car</td>\n",
       "      <td>Medsize</td>\n",
       "      <td>2763.519279</td>\n",
       "      <td>56274</td>\n",
       "      <td>69</td>\n",
       "      <td>32</td>\n",
       "      <td>5</td>\n",
       "      <td>0</td>\n",
       "      <td>1</td>\n",
       "      <td>384.811147</td>\n",
       "    </tr>\n",
       "    <tr>\n",
       "      <th>1</th>\n",
       "      <td>Arizona</td>\n",
       "      <td>No</td>\n",
       "      <td>Extended</td>\n",
       "      <td>Bachelor</td>\n",
       "      <td>Unemployed</td>\n",
       "      <td>F</td>\n",
       "      <td>Suburban</td>\n",
       "      <td>Single</td>\n",
       "      <td>Personal</td>\n",
       "      <td>Offer3</td>\n",
       "      <td>...</td>\n",
       "      <td>Four-Door Car</td>\n",
       "      <td>Medsize</td>\n",
       "      <td>6979.535903</td>\n",
       "      <td>0</td>\n",
       "      <td>94</td>\n",
       "      <td>13</td>\n",
       "      <td>42</td>\n",
       "      <td>0</td>\n",
       "      <td>8</td>\n",
       "      <td>1131.464935</td>\n",
       "    </tr>\n",
       "    <tr>\n",
       "      <th>2</th>\n",
       "      <td>Nevada</td>\n",
       "      <td>No</td>\n",
       "      <td>Premium</td>\n",
       "      <td>Bachelor</td>\n",
       "      <td>Employed</td>\n",
       "      <td>F</td>\n",
       "      <td>Suburban</td>\n",
       "      <td>Married</td>\n",
       "      <td>Personal</td>\n",
       "      <td>Offer1</td>\n",
       "      <td>...</td>\n",
       "      <td>Two-Door Car</td>\n",
       "      <td>Medsize</td>\n",
       "      <td>12887.431650</td>\n",
       "      <td>48767</td>\n",
       "      <td>108</td>\n",
       "      <td>18</td>\n",
       "      <td>38</td>\n",
       "      <td>0</td>\n",
       "      <td>2</td>\n",
       "      <td>566.472247</td>\n",
       "    </tr>\n",
       "    <tr>\n",
       "      <th>3</th>\n",
       "      <td>California</td>\n",
       "      <td>No</td>\n",
       "      <td>Basic</td>\n",
       "      <td>Bachelor</td>\n",
       "      <td>Unemployed</td>\n",
       "      <td>M</td>\n",
       "      <td>Suburban</td>\n",
       "      <td>Married</td>\n",
       "      <td>Corporate</td>\n",
       "      <td>Offer1</td>\n",
       "      <td>...</td>\n",
       "      <td>Expenciv Car</td>\n",
       "      <td>Medsize</td>\n",
       "      <td>7645.861827</td>\n",
       "      <td>0</td>\n",
       "      <td>106</td>\n",
       "      <td>18</td>\n",
       "      <td>65</td>\n",
       "      <td>0</td>\n",
       "      <td>7</td>\n",
       "      <td>529.881344</td>\n",
       "    </tr>\n",
       "    <tr>\n",
       "      <th>4</th>\n",
       "      <td>Washington</td>\n",
       "      <td>No</td>\n",
       "      <td>Basic</td>\n",
       "      <td>Bachelor</td>\n",
       "      <td>Employed</td>\n",
       "      <td>M</td>\n",
       "      <td>Rural</td>\n",
       "      <td>Single</td>\n",
       "      <td>Personal</td>\n",
       "      <td>Offer1</td>\n",
       "      <td>...</td>\n",
       "      <td>Four-Door Car</td>\n",
       "      <td>Medsize</td>\n",
       "      <td>2813.692575</td>\n",
       "      <td>43836</td>\n",
       "      <td>73</td>\n",
       "      <td>12</td>\n",
       "      <td>44</td>\n",
       "      <td>0</td>\n",
       "      <td>1</td>\n",
       "      <td>138.130879</td>\n",
       "    </tr>\n",
       "    <tr>\n",
       "      <th>...</th>\n",
       "      <td>...</td>\n",
       "      <td>...</td>\n",
       "      <td>...</td>\n",
       "      <td>...</td>\n",
       "      <td>...</td>\n",
       "      <td>...</td>\n",
       "      <td>...</td>\n",
       "      <td>...</td>\n",
       "      <td>...</td>\n",
       "      <td>...</td>\n",
       "      <td>...</td>\n",
       "      <td>...</td>\n",
       "      <td>...</td>\n",
       "      <td>...</td>\n",
       "      <td>...</td>\n",
       "      <td>...</td>\n",
       "      <td>...</td>\n",
       "      <td>...</td>\n",
       "      <td>...</td>\n",
       "      <td>...</td>\n",
       "      <td>...</td>\n",
       "    </tr>\n",
       "    <tr>\n",
       "      <th>9129</th>\n",
       "      <td>California</td>\n",
       "      <td>No</td>\n",
       "      <td>Basic</td>\n",
       "      <td>Bachelor</td>\n",
       "      <td>Employed</td>\n",
       "      <td>M</td>\n",
       "      <td>Urban</td>\n",
       "      <td>Married</td>\n",
       "      <td>Personal</td>\n",
       "      <td>Offer2</td>\n",
       "      <td>...</td>\n",
       "      <td>Four-Door Car</td>\n",
       "      <td>Medsize</td>\n",
       "      <td>23405.987980</td>\n",
       "      <td>71941</td>\n",
       "      <td>73</td>\n",
       "      <td>18</td>\n",
       "      <td>89</td>\n",
       "      <td>0</td>\n",
       "      <td>2</td>\n",
       "      <td>198.234764</td>\n",
       "    </tr>\n",
       "    <tr>\n",
       "      <th>9130</th>\n",
       "      <td>California</td>\n",
       "      <td>Yes</td>\n",
       "      <td>Extended</td>\n",
       "      <td>College</td>\n",
       "      <td>Employed</td>\n",
       "      <td>F</td>\n",
       "      <td>Suburban</td>\n",
       "      <td>Divorced</td>\n",
       "      <td>Corporate</td>\n",
       "      <td>Offer1</td>\n",
       "      <td>...</td>\n",
       "      <td>Four-Door Car</td>\n",
       "      <td>Medsize</td>\n",
       "      <td>3096.511217</td>\n",
       "      <td>21604</td>\n",
       "      <td>79</td>\n",
       "      <td>14</td>\n",
       "      <td>28</td>\n",
       "      <td>0</td>\n",
       "      <td>1</td>\n",
       "      <td>379.200000</td>\n",
       "    </tr>\n",
       "    <tr>\n",
       "      <th>9131</th>\n",
       "      <td>California</td>\n",
       "      <td>No</td>\n",
       "      <td>Extended</td>\n",
       "      <td>Bachelor</td>\n",
       "      <td>Unemployed</td>\n",
       "      <td>M</td>\n",
       "      <td>Suburban</td>\n",
       "      <td>Single</td>\n",
       "      <td>Corporate</td>\n",
       "      <td>Offer1</td>\n",
       "      <td>...</td>\n",
       "      <td>Four-Door Car</td>\n",
       "      <td>Medsize</td>\n",
       "      <td>8163.890428</td>\n",
       "      <td>0</td>\n",
       "      <td>85</td>\n",
       "      <td>9</td>\n",
       "      <td>37</td>\n",
       "      <td>3</td>\n",
       "      <td>2</td>\n",
       "      <td>790.784983</td>\n",
       "    </tr>\n",
       "    <tr>\n",
       "      <th>9132</th>\n",
       "      <td>California</td>\n",
       "      <td>No</td>\n",
       "      <td>Extended</td>\n",
       "      <td>College</td>\n",
       "      <td>Employed</td>\n",
       "      <td>M</td>\n",
       "      <td>Suburban</td>\n",
       "      <td>Married</td>\n",
       "      <td>Personal</td>\n",
       "      <td>Offer3</td>\n",
       "      <td>...</td>\n",
       "      <td>Four-Door Car</td>\n",
       "      <td>Large</td>\n",
       "      <td>7524.442436</td>\n",
       "      <td>21941</td>\n",
       "      <td>96</td>\n",
       "      <td>34</td>\n",
       "      <td>3</td>\n",
       "      <td>0</td>\n",
       "      <td>3</td>\n",
       "      <td>691.200000</td>\n",
       "    </tr>\n",
       "    <tr>\n",
       "      <th>9133</th>\n",
       "      <td>California</td>\n",
       "      <td>No</td>\n",
       "      <td>Extended</td>\n",
       "      <td>College</td>\n",
       "      <td>Unemployed</td>\n",
       "      <td>M</td>\n",
       "      <td>Suburban</td>\n",
       "      <td>Single</td>\n",
       "      <td>Corporate</td>\n",
       "      <td>Offer4</td>\n",
       "      <td>...</td>\n",
       "      <td>Two-Door Car</td>\n",
       "      <td>Medsize</td>\n",
       "      <td>2611.836866</td>\n",
       "      <td>0</td>\n",
       "      <td>77</td>\n",
       "      <td>3</td>\n",
       "      <td>90</td>\n",
       "      <td>0</td>\n",
       "      <td>1</td>\n",
       "      <td>369.600000</td>\n",
       "    </tr>\n",
       "  </tbody>\n",
       "</table>\n",
       "<p>9134 rows × 21 columns</p>\n",
       "</div>"
      ],
      "text/plain": [
       "           state response  coverage education employmentstatus gender  \\\n",
       "0     Washington       No     Basic  Bachelor         Employed      F   \n",
       "1        Arizona       No  Extended  Bachelor       Unemployed      F   \n",
       "2         Nevada       No   Premium  Bachelor         Employed      F   \n",
       "3     California       No     Basic  Bachelor       Unemployed      M   \n",
       "4     Washington       No     Basic  Bachelor         Employed      M   \n",
       "...          ...      ...       ...       ...              ...    ...   \n",
       "9129  California       No     Basic  Bachelor         Employed      M   \n",
       "9130  California      Yes  Extended   College         Employed      F   \n",
       "9131  California       No  Extended  Bachelor       Unemployed      M   \n",
       "9132  California       No  Extended   College         Employed      M   \n",
       "9133  California       No  Extended   College       Unemployed      M   \n",
       "\n",
       "     location_code marital_status     policy renew_offer_type  ...  \\\n",
       "0         Suburban        Married  Corporate           Offer1  ...   \n",
       "1         Suburban         Single   Personal           Offer3  ...   \n",
       "2         Suburban        Married   Personal           Offer1  ...   \n",
       "3         Suburban        Married  Corporate           Offer1  ...   \n",
       "4            Rural         Single   Personal           Offer1  ...   \n",
       "...            ...            ...        ...              ...  ...   \n",
       "9129         Urban        Married   Personal           Offer2  ...   \n",
       "9130      Suburban       Divorced  Corporate           Offer1  ...   \n",
       "9131      Suburban         Single  Corporate           Offer1  ...   \n",
       "9132      Suburban        Married   Personal           Offer3  ...   \n",
       "9133      Suburban         Single  Corporate           Offer4  ...   \n",
       "\n",
       "      vehicle_class vehicle_size customer_lifetime_value  income  \\\n",
       "0      Two-Door Car      Medsize             2763.519279   56274   \n",
       "1     Four-Door Car      Medsize             6979.535903       0   \n",
       "2      Two-Door Car      Medsize            12887.431650   48767   \n",
       "3      Expenciv Car      Medsize             7645.861827       0   \n",
       "4     Four-Door Car      Medsize             2813.692575   43836   \n",
       "...             ...          ...                     ...     ...   \n",
       "9129  Four-Door Car      Medsize            23405.987980   71941   \n",
       "9130  Four-Door Car      Medsize             3096.511217   21604   \n",
       "9131  Four-Door Car      Medsize             8163.890428       0   \n",
       "9132  Four-Door Car        Large             7524.442436   21941   \n",
       "9133   Two-Door Car      Medsize             2611.836866       0   \n",
       "\n",
       "      monthly_premium_auto  months_since_last_claim  \\\n",
       "0                       69                       32   \n",
       "1                       94                       13   \n",
       "2                      108                       18   \n",
       "3                      106                       18   \n",
       "4                       73                       12   \n",
       "...                    ...                      ...   \n",
       "9129                    73                       18   \n",
       "9130                    79                       14   \n",
       "9131                    85                        9   \n",
       "9132                    96                       34   \n",
       "9133                    77                        3   \n",
       "\n",
       "      months_since_policy_inception  number_of_open_complaints  \\\n",
       "0                                 5                          0   \n",
       "1                                42                          0   \n",
       "2                                38                          0   \n",
       "3                                65                          0   \n",
       "4                                44                          0   \n",
       "...                             ...                        ...   \n",
       "9129                             89                          0   \n",
       "9130                             28                          0   \n",
       "9131                             37                          3   \n",
       "9132                              3                          0   \n",
       "9133                             90                          0   \n",
       "\n",
       "      number_of_policies  total_claim_amount  \n",
       "0                      1          384.811147  \n",
       "1                      8         1131.464935  \n",
       "2                      2          566.472247  \n",
       "3                      7          529.881344  \n",
       "4                      1          138.130879  \n",
       "...                  ...                 ...  \n",
       "9129                   2          198.234764  \n",
       "9130                   1          379.200000  \n",
       "9131                   2          790.784983  \n",
       "9132                   3          691.200000  \n",
       "9133                   1          369.600000  \n",
       "\n",
       "[9134 rows x 21 columns]"
      ]
     },
     "metadata": {},
     "output_type": "display_data"
    },
    {
     "data": {
      "text/plain": [
       "Index(['state', 'response', 'coverage', 'education', 'employmentstatus',\n",
       "       'gender', 'location_code', 'marital_status', 'policy',\n",
       "       'renew_offer_type', 'sales_channel', 'vehicle_class', 'vehicle_size',\n",
       "       'customer_lifetime_value', 'income', 'monthly_premium_auto',\n",
       "       'months_since_last_claim', 'months_since_policy_inception',\n",
       "       'number_of_open_complaints', 'number_of_policies',\n",
       "       'total_claim_amount'],\n",
       "      dtype='object')"
      ]
     },
     "metadata": {},
     "output_type": "display_data"
    }
   ],
   "source": [
    "# Concatenate Numerical and Categorical dataframes into one dataframe called data.\n",
    "# total-claim-amount-->target\n",
    "\n",
    "data = pd.concat([file2, file3], axis=1)\n",
    "data = data.drop(['Unnamed: 0'], axis=1)\n",
    "display(data)\n",
    "display(data.columns)"
   ]
  },
  {
   "cell_type": "code",
   "execution_count": 3,
   "id": "4b250b3d",
   "metadata": {},
   "outputs": [
    {
     "name": "stdout",
     "output_type": "stream",
     "text": [
      "(9134, 20)\n",
      "(9134,)\n"
     ]
    }
   ],
   "source": [
    "# Import sklearn train_test_split and separate the data.\n",
    "X=data.drop(columns=['total_claim_amount'])\n",
    "y=data['total_claim_amount']\n",
    "# checking shape\n",
    "print(X.shape)\n",
    "print(y.shape)\n",
    "\n",
    "\n"
   ]
  },
  {
   "cell_type": "code",
   "execution_count": 4,
   "id": "538eb603",
   "metadata": {},
   "outputs": [
    {
     "data": {
      "text/html": [
       "<div>\n",
       "<style scoped>\n",
       "    .dataframe tbody tr th:only-of-type {\n",
       "        vertical-align: middle;\n",
       "    }\n",
       "\n",
       "    .dataframe tbody tr th {\n",
       "        vertical-align: top;\n",
       "    }\n",
       "\n",
       "    .dataframe thead th {\n",
       "        text-align: right;\n",
       "    }\n",
       "</style>\n",
       "<table border=\"1\" class=\"dataframe\">\n",
       "  <thead>\n",
       "    <tr style=\"text-align: right;\">\n",
       "      <th></th>\n",
       "      <th>customer_lifetime_value</th>\n",
       "      <th>income</th>\n",
       "      <th>monthly_premium_auto</th>\n",
       "      <th>months_since_last_claim</th>\n",
       "      <th>months_since_policy_inception</th>\n",
       "      <th>number_of_open_complaints</th>\n",
       "      <th>number_of_policies</th>\n",
       "    </tr>\n",
       "  </thead>\n",
       "  <tbody>\n",
       "    <tr>\n",
       "      <th>5123</th>\n",
       "      <td>4768.955924</td>\n",
       "      <td>51144</td>\n",
       "      <td>61</td>\n",
       "      <td>28</td>\n",
       "      <td>32</td>\n",
       "      <td>1</td>\n",
       "      <td>9</td>\n",
       "    </tr>\n",
       "    <tr>\n",
       "      <th>7738</th>\n",
       "      <td>2827.559570</td>\n",
       "      <td>0</td>\n",
       "      <td>79</td>\n",
       "      <td>30</td>\n",
       "      <td>25</td>\n",
       "      <td>0</td>\n",
       "      <td>1</td>\n",
       "    </tr>\n",
       "    <tr>\n",
       "      <th>214</th>\n",
       "      <td>2912.892035</td>\n",
       "      <td>81097</td>\n",
       "      <td>74</td>\n",
       "      <td>7</td>\n",
       "      <td>67</td>\n",
       "      <td>0</td>\n",
       "      <td>1</td>\n",
       "    </tr>\n",
       "    <tr>\n",
       "      <th>8580</th>\n",
       "      <td>5138.244998</td>\n",
       "      <td>72264</td>\n",
       "      <td>64</td>\n",
       "      <td>2</td>\n",
       "      <td>66</td>\n",
       "      <td>0</td>\n",
       "      <td>9</td>\n",
       "    </tr>\n",
       "    <tr>\n",
       "      <th>7857</th>\n",
       "      <td>2610.369217</td>\n",
       "      <td>54737</td>\n",
       "      <td>66</td>\n",
       "      <td>3</td>\n",
       "      <td>86</td>\n",
       "      <td>0</td>\n",
       "      <td>1</td>\n",
       "    </tr>\n",
       "  </tbody>\n",
       "</table>\n",
       "</div>"
      ],
      "text/plain": [
       "      customer_lifetime_value  income  monthly_premium_auto  \\\n",
       "5123              4768.955924   51144                    61   \n",
       "7738              2827.559570       0                    79   \n",
       "214               2912.892035   81097                    74   \n",
       "8580              5138.244998   72264                    64   \n",
       "7857              2610.369217   54737                    66   \n",
       "\n",
       "      months_since_last_claim  months_since_policy_inception  \\\n",
       "5123                       28                             32   \n",
       "7738                       30                             25   \n",
       "214                         7                             67   \n",
       "8580                        2                             66   \n",
       "7857                        3                             86   \n",
       "\n",
       "      number_of_open_complaints  number_of_policies  \n",
       "5123                          1                   9  \n",
       "7738                          0                   1  \n",
       "214                           0                   1  \n",
       "8580                          0                   9  \n",
       "7857                          0                   1  "
      ]
     },
     "execution_count": 4,
     "metadata": {},
     "output_type": "execute_result"
    }
   ],
   "source": [
    "# Separate X_train and X_test into numerical and categorical (X_train_cat , X_train_num , X_test_cat , X_test_num)\n",
    "from sklearn.model_selection import train_test_split as tts\n",
    "X_train, X_test, y_train, y_test=tts(X, y, test_size=0.2, random_state=42)  # random state fixed sample\n",
    "\n",
    "numericals_train = X_train.select_dtypes(np.number)\n",
    "numericals_test = X_test.select_dtypes(np.number)\n",
    "numericals_train.head()"
   ]
  },
  {
   "cell_type": "code",
   "execution_count": 5,
   "id": "9317a0ad",
   "metadata": {},
   "outputs": [
    {
     "data": {
      "text/plain": [
       "(7307, 7)"
      ]
     },
     "metadata": {},
     "output_type": "display_data"
    },
    {
     "data": {
      "text/plain": [
       "(1827, 7)"
      ]
     },
     "metadata": {},
     "output_type": "display_data"
    }
   ],
   "source": [
    "# Use X_train_num to fit scalers. Transform BOTH X_train_num and X_test_num.\n",
    "# is there a difference between scaler, transformer and encoder? translating don't help...\n",
    "from sklearn.preprocessing import MinMaxScaler\n",
    "\n",
    "transformer = MinMaxScaler().fit(numericals_train)\n",
    "numericals_train_scaled = transformer.transform(numericals_train)\n",
    "numericals_test_scaled = transformer.transform(numericals_test)\n",
    "\n",
    "display(numericals_train_scaled.shape)\n",
    "display(numericals_test_scaled.shape)\n"
   ]
  },
  {
   "cell_type": "markdown",
   "id": "c94bc325",
   "metadata": {},
   "source": [
    "## X_train_cat"
   ]
  },
  {
   "cell_type": "code",
   "execution_count": 6,
   "id": "9f1390a3",
   "metadata": {},
   "outputs": [],
   "source": [
    "X_train_cat = X_train.select_dtypes(object)\n",
    "\n",
    "X_train_cat_1 = X_train_cat[['state', 'marital_status', 'policy', 'renew_offer_type', 'sales_channel', 'vehicle_class', 'employmentstatus', 'location_code']]\n",
    "X_train_cat_2 = X_train_cat[['coverage', 'employmentstatus', 'location_code','vehicle_size', 'education']]"
   ]
  },
  {
   "cell_type": "code",
   "execution_count": 7,
   "id": "1def87e8",
   "metadata": {},
   "outputs": [
    {
     "data": {
      "text/plain": [
       "(7307, 13)"
      ]
     },
     "metadata": {},
     "output_type": "display_data"
    },
    {
     "data": {
      "text/plain": [
       "(7307, 8)"
      ]
     },
     "metadata": {},
     "output_type": "display_data"
    },
    {
     "data": {
      "text/plain": [
       "(7307, 5)"
      ]
     },
     "metadata": {},
     "output_type": "display_data"
    }
   ],
   "source": [
    "display(X_train_cat.shape)\n",
    "display(X_train_cat_1.shape)\n",
    "display(X_train_cat_2.shape)"
   ]
  },
  {
   "cell_type": "markdown",
   "id": "a212a1c4",
   "metadata": {},
   "source": [
    "## X_test_cat"
   ]
  },
  {
   "cell_type": "code",
   "execution_count": 8,
   "id": "28df4130",
   "metadata": {},
   "outputs": [
    {
     "data": {
      "text/plain": [
       "(1827, 13)"
      ]
     },
     "metadata": {},
     "output_type": "display_data"
    },
    {
     "data": {
      "text/plain": [
       "(1827, 8)"
      ]
     },
     "metadata": {},
     "output_type": "display_data"
    },
    {
     "data": {
      "text/plain": [
       "(1827, 5)"
      ]
     },
     "metadata": {},
     "output_type": "display_data"
    }
   ],
   "source": [
    "X_test_cat = X_test.select_dtypes(object)\n",
    "\n",
    "X_test_cat_1 = X_test_cat[['state', 'marital_status', 'policy', 'renew_offer_type', 'sales_channel', 'vehicle_class', 'employmentstatus', 'location_code']]\n",
    "X_test_cat_2 = X_test_cat[['coverage', 'employmentstatus', 'location_code','vehicle_size', 'education']]\n",
    "\n",
    "display(X_test_cat.shape)\n",
    "display(X_test_cat_1.shape)\n",
    "display(X_test_cat_2.shape)\n"
   ]
  },
  {
   "cell_type": "markdown",
   "id": "2b28e43d",
   "metadata": {},
   "source": [
    "## OneHotEncoder"
   ]
  },
  {
   "cell_type": "code",
   "execution_count": 9,
   "id": "222f5af3",
   "metadata": {},
   "outputs": [],
   "source": [
    "from sklearn.preprocessing import OneHotEncoder\n",
    "\n",
    "encoder = OneHotEncoder(handle_unknown='error', drop='first').fit(X_train_cat_1)\n",
    "X_train_cat_1_encoded = encoder.transform(X_train_cat_1).toarray()\n",
    "X_test_cat_1_encoded = encoder.transform(X_test_cat_1).toarray()"
   ]
  },
  {
   "cell_type": "markdown",
   "id": "d3500f24",
   "metadata": {},
   "source": [
    "## OrdinalEncoder"
   ]
  },
  {
   "cell_type": "code",
   "execution_count": 10,
   "id": "0fa46ea7",
   "metadata": {},
   "outputs": [],
   "source": [
    "from sklearn.preprocessing import OrdinalEncoder\n",
    "\n",
    "encoder2 = OrdinalEncoder()\n",
    "X_train_cat_2_encoded = encoder2.fit_transform(X_train_cat_2)\n",
    "X_test_cat_2_encoded = encoder2.fit_transform(X_test_cat_2)"
   ]
  },
  {
   "cell_type": "code",
   "execution_count": 11,
   "id": "ef88dcb8",
   "metadata": {},
   "outputs": [
    {
     "data": {
      "text/plain": [
       "array([[0., 0., 0., ..., 0., 0., 1.],\n",
       "       [0., 0., 1., ..., 1., 1., 0.],\n",
       "       [0., 0., 0., ..., 0., 1., 0.],\n",
       "       ...,\n",
       "       [1., 0., 0., ..., 1., 1., 0.],\n",
       "       [0., 0., 0., ..., 1., 1., 0.],\n",
       "       [0., 0., 0., ..., 0., 0., 1.]])"
      ]
     },
     "metadata": {},
     "output_type": "display_data"
    },
    {
     "data": {
      "text/plain": [
       "array([[0., 0., 0., 1., 2.],\n",
       "       [0., 0., 1., 1., 2.],\n",
       "       [1., 0., 1., 2., 1.],\n",
       "       ...,\n",
       "       [0., 0., 0., 1., 0.],\n",
       "       [0., 2., 1., 2., 2.],\n",
       "       [0., 2., 1., 0., 1.]])"
      ]
     },
     "metadata": {},
     "output_type": "display_data"
    },
    {
     "data": {
      "text/plain": [
       "array([[0., 0., 2., 1., 0.],\n",
       "       [1., 2., 1., 1., 1.],\n",
       "       [0., 0., 1., 2., 1.],\n",
       "       ...,\n",
       "       [1., 2., 1., 1., 2.],\n",
       "       [1., 2., 1., 1., 0.],\n",
       "       [1., 0., 2., 1., 0.]])"
      ]
     },
     "metadata": {},
     "output_type": "display_data"
    },
    {
     "data": {
      "text/plain": [
       "array([[0., 0., 0., 1., 2.],\n",
       "       [0., 0., 1., 1., 2.],\n",
       "       [1., 0., 1., 2., 1.],\n",
       "       ...,\n",
       "       [0., 0., 0., 1., 0.],\n",
       "       [0., 2., 1., 2., 2.],\n",
       "       [0., 2., 1., 0., 1.]])"
      ]
     },
     "metadata": {},
     "output_type": "display_data"
    }
   ],
   "source": [
    "# Since the model will only accept numerical data, check and make sure that every column \n",
    "# is numerical, if some are not, change it using encoding.\n",
    "display(X_train_cat_1_encoded)\n",
    "display(X_test_cat_2_encoded)\n",
    "display(X_train_cat_2_encoded)\n",
    "display(X_test_cat_2_encoded)"
   ]
  },
  {
   "cell_type": "code",
   "execution_count": 12,
   "id": "adfae13b",
   "metadata": {},
   "outputs": [],
   "source": [
    "# Try a simple linear regression with all the data to see whether we are getting good results.\n",
    "\n",
    "X_train = np.concatenate((X_train_cat_1_encoded, X_train_cat_2_encoded),axis=1)\n",
    "X_test = np.concatenate((X_test_cat_1_encoded, X_test_cat_2_encoded),axis=1)"
   ]
  },
  {
   "cell_type": "code",
   "execution_count": 13,
   "id": "b86526f9",
   "metadata": {},
   "outputs": [
    {
     "name": "stdout",
     "output_type": "stream",
     "text": [
      "train R2: 0.6586079633741764 -- test R2: 0.662580508909022\n",
      "train MSE: 29206.650209070463 -- test MSE: 26828.574912236356\n",
      "train RMSE: 170.89953250102957 -- test RMSE: 163.794306714966\n",
      "train MAE: 29206.650209070463 -- test MAE: 26828.574912236356\n"
     ]
    }
   ],
   "source": [
    "from sklearn.linear_model import LinearRegression as LinReg\n",
    "linreg=LinReg()    # model\n",
    "linreg.fit(X_train, y_train)   # model train\n",
    "y_pred_linreg=linreg.predict(X_test)   # model prediction\n",
    "print ('train R2: {} -- test R2: {}'.format(linreg.score(X_train, y_train),\n",
    "                                            linreg.score(X_test, y_test)))\n",
    "from sklearn.metrics import mean_squared_error as mse\n",
    "train_mse=mse(linreg.predict(X_train), y_train)\n",
    "test_mse=mse(linreg.predict(X_test), y_test)\n",
    "print ('train MSE: {} -- test MSE: {}'.format(train_mse, test_mse))\n",
    "print ('train RMSE: {} -- test RMSE: {}'.format(train_mse**.5, test_mse**.5))\n",
    "from sklearn.metrics import mean_absolute_error as mae\n",
    "train_mae=mae(linreg.predict(X_train), y_train)\n",
    "test_mae=mae(linreg.predict(X_test), y_test)\n",
    "print ('train MAE: {} -- test MAE: {}'.format(train_mse, test_mse))\n",
    "def normalize(X):         # normalization function\n",
    "    X_mean=X.mean(axis=0)\n",
    "    X_std=X.std(axis=0)\n",
    "    X_std[X_std==0]=1.0\n",
    "    X=(X-X_mean)/X_std\n",
    "    return X"
   ]
  },
  {
   "cell_type": "code",
   "execution_count": 14,
   "id": "7a63ecce",
   "metadata": {},
   "outputs": [],
   "source": [
    "from sklearn.neighbors import KNeighborsRegressor\n",
    "from sklearn import datasets\n",
    "from sklearn import metrics\n",
    "from sklearn.neural_network import MLPClassifier\n",
    "from sklearn.neural_network import MLPRegressor\n",
    "from sklearn.metrics import mean_absolute_error, r2_score\n",
    "from sklearn.metrics import r2_score\n",
    "from sklearn.metrics import mean_squared_error, r2_score"
   ]
  },
  {
   "cell_type": "code",
   "execution_count": 15,
   "id": "1909ab95",
   "metadata": {},
   "outputs": [],
   "source": [
    "# Great! Now define a function that takes a list of models and train (and tests) them so we \n",
    "# can try a lot of them without repeating code.\n",
    "# Use the function to check LinearRegressor and KNeighborsRegressor.\n",
    "# You can check also the MLPRegressor for this task!\n",
    "\n",
    "def r2_knn_mlp():\n",
    "    \n",
    "    #KNeigbhours\n",
    "    k = int(input(\"Please type a value for n_neighbors=:\"))\n",
    "    knm = KNeighborsRegressor(n_neighbors=k)\n",
    "    knm.fit(X_train, y_train)\n",
    "    # Predictions on TRAIN data and score \n",
    "    kn_train_score = knm.score(X_train, y_train)\n",
    "    # Predictions on TEST data and score\n",
    "    kn_test_predictions = knm.predict(X_test)\n",
    "    kn_test_score = knm.score(X_test, y_test)\n",
    "    print(\"kn_test_score is: \", kn_test_score)\n",
    "    \n",
    "    # Linear Regression\n",
    "    print(\"Linear Regression:\")\n",
    "    linreg=LinReg()    # model\n",
    "    linreg.fit(X_train, y_train)   # model train\n",
    "    y_pred_linreg=linreg.predict(X_test)   # model prediction\n",
    "    print ('train R2: {} -- test R2: {}'.format(linreg.score(X_train, y_train),\n",
    "                                                linreg.score(X_test, y_test)))\n",
    "    \n",
    "    #MLP Regressor\n",
    "\n",
    "    # Fitting and training the model\n",
    "    mlp = MLPRegressor(hidden_layer_sizes=(50, 50))\n",
    "    mlp.fit(X_train, y_train)\n",
    "\n",
    "    # Predictions on TEST data and score\n",
    "    mlp_test_predictions = mlp.predict(X_test)\n",
    "    mlp_test_score = r2_score(y_test,mlp_test_predictions)\n",
    "    print(\"mlp_test_score is: \", mlp_test_score)"
   ]
  },
  {
   "cell_type": "code",
   "execution_count": 18,
   "id": "68845e64",
   "metadata": {},
   "outputs": [
    {
     "name": "stdout",
     "output_type": "stream",
     "text": [
      "Please type a value for n_neighbors=:10\n",
      "kn_test_score is:  0.640458848548762\n",
      "Linear Regression:\n",
      "train R2: 0.6586079633741764 -- test R2: 0.662580508909022\n",
      "mlp_test_score is:  0.7162836388495539\n"
     ]
    },
    {
     "name": "stderr",
     "output_type": "stream",
     "text": [
      "C:\\ProgramData\\Anaconda3\\lib\\site-packages\\sklearn\\neural_network\\_multilayer_perceptron.py:692: ConvergenceWarning: Stochastic Optimizer: Maximum iterations (200) reached and the optimization hasn't converged yet.\n",
      "  warnings.warn(\n"
     ]
    }
   ],
   "source": [
    "r2_knn_mlp()"
   ]
  },
  {
   "cell_type": "code",
   "execution_count": 17,
   "id": "d3a4f126",
   "metadata": {},
   "outputs": [],
   "source": [
    "# mlp_test_score is best"
   ]
  },
  {
   "cell_type": "code",
   "execution_count": null,
   "id": "660436ec",
   "metadata": {},
   "outputs": [],
   "source": []
  }
 ],
 "metadata": {
  "kernelspec": {
   "display_name": "Python 3 (ipykernel)",
   "language": "python",
   "name": "python3"
  },
  "language_info": {
   "codemirror_mode": {
    "name": "ipython",
    "version": 3
   },
   "file_extension": ".py",
   "mimetype": "text/x-python",
   "name": "python",
   "nbconvert_exporter": "python",
   "pygments_lexer": "ipython3",
   "version": "3.9.12"
  }
 },
 "nbformat": 4,
 "nbformat_minor": 5
}
